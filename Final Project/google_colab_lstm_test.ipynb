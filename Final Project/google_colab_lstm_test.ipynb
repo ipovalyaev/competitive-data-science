{
  "nbformat": 4,
  "nbformat_minor": 0,
  "metadata": {
    "hw_version": "1.0.0",
    "kernelspec": {
      "name": "python3",
      "display_name": "Python 3"
    },
    "language_info": {
      "codemirror_mode": {
        "name": "ipython",
        "version": 3
      },
      "file_extension": ".py",
      "mimetype": "text/x-python",
      "name": "python",
      "nbconvert_exporter": "python",
      "pygments_lexer": "ipython3",
      "version": "3.6.8"
    },
    "colab": {
      "name": "Solution.ipynb",
      "provenance": []
    },
    "accelerator": "GPU"
  },
  "cells": [
    {
      "cell_type": "markdown",
      "metadata": {
        "id": "mTG_dLZssURe",
        "colab_type": "text"
      },
      "source": [
        "# Import packages and load data"
      ]
    },
    {
      "cell_type": "code",
      "metadata": {
        "id": "2OnIN_wFsURo",
        "colab_type": "code",
        "colab": {
          "base_uri": "https://localhost:8080/",
          "height": 64
        },
        "outputId": "8e143c79-6cc1-4292-cc1d-bc3bf9f4fdc5"
      },
      "source": [
        "import pandas as pd\n",
        "import numpy as np\n",
        "import os\n",
        "from itertools import product\n",
        "import matplotlib.pyplot as plt\n",
        "import time\n",
        "import gc\n",
        "from sklearn.metrics import mean_squared_error, r2_score\n",
        "import sklearn.linear_model\n",
        "from sklearn import preprocessing\n",
        "\n",
        "from sklearn.feature_extraction.text import TfidfVectorizer\n",
        "from sklearn.decomposition import TruncatedSVD\n",
        "from sklearn.cluster import KMeans\n",
        "\n",
        "import xgboost\n",
        "import lightgbm as lgb\n",
        "\n",
        "import tensorflow as tf\n",
        "from tensorflow import keras\n",
        "\n",
        "%matplotlib inline \n"
      ],
      "execution_count": 1,
      "outputs": [
        {
          "output_type": "display_data",
          "data": {
            "text/html": [
              "<p style=\"color: red;\">\n",
              "The default version of TensorFlow in Colab will soon switch to TensorFlow 2.x.<br>\n",
              "We recommend you <a href=\"https://www.tensorflow.org/guide/migrate\" target=\"_blank\">upgrade</a> now \n",
              "or ensure your notebook will continue to use TensorFlow 1.x via the <code>%tensorflow_version 1.x</code> magic:\n",
              "<a href=\"https://colab.research.google.com/notebooks/tensorflow_version.ipynb\" target=\"_blank\">more info</a>.</p>\n"
            ],
            "text/plain": [
              "<IPython.core.display.HTML object>"
            ]
          },
          "metadata": {
            "tags": []
          }
        }
      ]
    },
    {
      "cell_type": "code",
      "metadata": {
        "id": "I_6lCj8Gs7g_",
        "colab_type": "code",
        "colab": {
          "base_uri": "https://localhost:8080/",
          "height": 86
        },
        "outputId": "f7c0b8e0-24e3-4619-fa98-8de6ab137873"
      },
      "source": [
        "!curl --remote-name \\\n",
        "     -H 'Accept: application/vnd.github.v3.raw' \\\n",
        "     --location https://github.com/ipovalyaev/competitive-data-science/raw/master/readonly/final_project_data/sales_train.csv.gz\n",
        "      # https://api.github.com/repos/jakevdp/PythonDataScienceHandbook/contents/notebooks/data/california_cities.csv\n",
        "\n",
        "transactions = pd.read_csv( 'sales_train.csv.gz')"
      ],
      "execution_count": 2,
      "outputs": [
        {
          "output_type": "stream",
          "text": [
            "  % Total    % Received % Xferd  Average Speed   Time    Time     Time  Current\n",
            "                                 Dload  Upload   Total   Spent    Left  Speed\n",
            "100   189  100   189    0     0    289      0 --:--:-- --:--:-- --:--:--   289\n",
            "100 12.8M  100 12.8M    0     0  8107k      0  0:00:01  0:00:01 --:--:-- 16.7M\n"
          ],
          "name": "stdout"
        }
      ]
    },
    {
      "cell_type": "code",
      "metadata": {
        "id": "mnxU0MtOuh8Z",
        "colab_type": "code",
        "colab": {}
      },
      "source": [
        ""
      ],
      "execution_count": 0,
      "outputs": []
    },
    {
      "cell_type": "code",
      "metadata": {
        "id": "BNmrCHUXsUWb",
        "colab_type": "code",
        "colab": {}
      },
      "source": [
        "def cartesian_product(*arrays):\n",
        "    la = len(arrays)\n",
        "    dtype = np.result_type(*arrays)\n",
        "    arr = np.empty([len(a) for a in arrays] + [la], dtype=dtype)\n",
        "    for i, a in enumerate(np.ix_(*arrays)):\n",
        "        arr[...,i] = a\n",
        "    return arr.reshape(-1, la)"
      ],
      "execution_count": 0,
      "outputs": []
    },
    {
      "cell_type": "code",
      "metadata": {
        "id": "FvyfXMNPsUZc",
        "colab_type": "code",
        "colab": {}
      },
      "source": [
        "train_test_split_block=30\n",
        "\n",
        "# shop_ids = np.random.choice(transactions[transactions.date_block_num==train_test_split_block].shop_id.unique(),10)\n",
        "shop_ids = transactions[transactions.date_block_num==train_test_split_block].shop_id.unique()\n"
      ],
      "execution_count": 0,
      "outputs": []
    },
    {
      "cell_type": "code",
      "metadata": {
        "id": "uEqNmaY3sUZk",
        "colab_type": "code",
        "colab": {}
      },
      "source": [
        "# time_window = 24\n",
        "time_window = 13\n",
        "n_features = 1"
      ],
      "execution_count": 0,
      "outputs": []
    },
    {
      "cell_type": "code",
      "metadata": {
        "id": "n55IutHNsUZq",
        "colab_type": "code",
        "colab": {
          "base_uri": "https://localhost:8080/",
          "height": 312
        },
        "outputId": "2cd7ba14-1c60-4b8b-b781-86c2319518da"
      },
      "source": [
        "index_cols = ['shop_id', 'item_id', 'date_block_num']\n",
        "\n",
        "train_X = []\n",
        "train_Y = []\n",
        "\n",
        "for cur_seq_window in range(time_window,train_test_split_block):\n",
        "    start_interval = cur_seq_window-time_window\n",
        "    print(start_interval,cur_seq_window)\n",
        "    #item_ids from Y\n",
        "    item_ids = transactions[\n",
        "        (transactions.date_block_num==cur_seq_window) &\n",
        "        (transactions.shop_id.isin(shop_ids))\n",
        "    ].item_id.unique()\n",
        "    # grid for both X and Y\n",
        "    v_grid_X = \\\n",
        "        cartesian_product(shop_ids, item_ids, np.array(range(cur_seq_window-time_window,cur_seq_window)))    \n",
        "    pd_grid_X = pd.DataFrame(v_grid_X, columns = index_cols,dtype=np.int32)\n",
        "    \n",
        "    X_trans = transactions[\n",
        "        (transactions.date_block_num>=start_interval) &\n",
        "        (transactions.date_block_num<cur_seq_window) &\n",
        "        (transactions.shop_id.isin(shop_ids)) & \n",
        "        (transactions.item_id.isin(item_ids))\n",
        "    ]\n",
        "    gb_X = X_trans.groupby(index_cols,as_index=False).agg({'item_cnt_day':'sum'})\n",
        "    pd_grid_val_X = pd.merge(pd_grid_X, gb_X, how='left', on=index_cols).fillna(0.0)    \n",
        "    seq_num = int(pd_grid_val_X.shape[0]/time_window)\n",
        "#     print (\"seq_num = \" + str(seq_num))    \n",
        "    np_X_chunk = np.reshape(pd_grid_val_X.sort_values(by=index_cols)['item_cnt_day'].values,\n",
        "                                  (seq_num,time_window,n_features))\n",
        "    \n",
        "    \n",
        "    v_grid_Y = cartesian_product(shop_ids, item_ids, np.array([cur_seq_window]))\n",
        "    pd_grid_Y = pd.DataFrame(v_grid_Y, columns = index_cols,dtype=np.int32)    \n",
        "    Y_trans = transactions[\n",
        "        (transactions.date_block_num==cur_seq_window) &\n",
        "        (transactions.shop_id.isin(shop_ids)) & \n",
        "        (transactions.item_id.isin(item_ids))\n",
        "    ]\n",
        "    gb_Y = Y_trans.groupby(index_cols,as_index=False).agg({'item_cnt_day':'sum'})\n",
        "    pd_grid_val_Y = pd.merge(pd_grid_Y, gb_Y, how='left', on=index_cols).fillna(0.0)\n",
        "    \n",
        "    np_Y_chunk = pd_grid_val_Y.sort_values(by=index_cols)['item_cnt_day'].values\n",
        "    \n",
        "#     print (\"np_X_chunk.shape = \"+str(np_X_chunk.shape)+\"np_Y_chunk.shape = \"+str(np_Y_chunk.shape))\n",
        "\n",
        "\n",
        "    \n",
        "    if (cur_seq_window==train_test_split_block-1):\n",
        "        ## test set\n",
        "        test_X = np_X_chunk\n",
        "        test_Y = np_Y_chunk\n",
        "    else:\n",
        "        ## train set\n",
        "        train_X.append(np_X_chunk)\n",
        "        train_Y.append(np_Y_chunk)\n",
        "        \n",
        "train_X_final = np.vstack(train_X)\n",
        "train_Y_final = np.hstack(train_Y)"
      ],
      "execution_count": 6,
      "outputs": [
        {
          "output_type": "stream",
          "text": [
            "0 13\n",
            "1 14\n",
            "2 15\n",
            "3 16\n",
            "4 17\n",
            "5 18\n",
            "6 19\n",
            "7 20\n",
            "8 21\n",
            "9 22\n",
            "10 23\n",
            "11 24\n",
            "12 25\n",
            "13 26\n",
            "14 27\n",
            "15 28\n",
            "16 29\n"
          ],
          "name": "stdout"
        }
      ]
    },
    {
      "cell_type": "code",
      "metadata": {
        "id": "wXj7i95tsUZw",
        "colab_type": "code",
        "colab": {
          "base_uri": "https://localhost:8080/",
          "height": 34
        },
        "outputId": "97c8bcbc-1744-4fb8-eaa8-9e29e69570dd"
      },
      "source": [
        "print(train_X_final.shape , train_Y_final.shape, test_X.shape , test_Y.shape)"
      ],
      "execution_count": 7,
      "outputs": [
        {
          "output_type": "stream",
          "text": [
            "(4221912, 13, 1) (4221912,) (224288, 13, 1) (224288,)\n"
          ],
          "name": "stdout"
        }
      ]
    },
    {
      "cell_type": "code",
      "metadata": {
        "id": "NIl1quL0sUZ5",
        "colab_type": "code",
        "outputId": "297e404a-0957-433e-d8a2-c6cc84ed1908",
        "colab": {
          "base_uri": "https://localhost:8080/",
          "height": 1000
        }
      },
      "source": [
        "model = keras.Sequential()\n",
        "model.add(keras.layers.CuDNNLSTM(256, input_shape=(train_X_final.shape[1], train_X_final.shape[2])\n",
        "                                #  ,kernel_regularizer=keras.regularizers.l2(0.05)\n",
        "                                #  ,recurrent_regularizer = keras.regularizers.l2(0.05)\n",
        "                                ))\n",
        "model.add(keras.layers.Dense(1))\n",
        "model.compile(loss='mean_squared_error', optimizer=keras.optimizers.Adam())\n",
        "\n",
        "history = model.fit(\n",
        "    train_X_final, train_Y_final, \n",
        "    epochs=60, \n",
        "    batch_size=1024, \n",
        "    validation_data=(test_X, test_Y),\n",
        "    verbose=2, \n",
        "    shuffle=True\n",
        ")"
      ],
      "execution_count": 8,
      "outputs": [
        {
          "output_type": "stream",
          "text": [
            "WARNING:tensorflow:From /usr/local/lib/python3.6/dist-packages/tensorflow_core/python/ops/resource_variable_ops.py:1630: calling BaseResourceVariable.__init__ (from tensorflow.python.ops.resource_variable_ops) with constraint is deprecated and will be removed in a future version.\n",
            "Instructions for updating:\n",
            "If using Keras pass *_constraint arguments to layers.\n",
            "Train on 4221912 samples, validate on 224288 samples\n",
            "Epoch 1/60\n",
            "4221912/4221912 - 41s - loss: 9.5254 - val_loss: 2.5972\n",
            "Epoch 2/60\n",
            "4221912/4221912 - 33s - loss: 8.4294 - val_loss: 2.4032\n",
            "Epoch 3/60\n",
            "4221912/4221912 - 33s - loss: 7.9419 - val_loss: 2.1202\n",
            "Epoch 4/60\n",
            "4221912/4221912 - 33s - loss: 7.7828 - val_loss: 2.0514\n",
            "Epoch 5/60\n",
            "4221912/4221912 - 33s - loss: 7.4848 - val_loss: 1.9064\n",
            "Epoch 6/60\n",
            "4221912/4221912 - 33s - loss: 7.3032 - val_loss: 1.7893\n",
            "Epoch 7/60\n",
            "4221912/4221912 - 33s - loss: 7.2849 - val_loss: 1.9025\n",
            "Epoch 8/60\n",
            "4221912/4221912 - 33s - loss: 7.2401 - val_loss: 1.7044\n",
            "Epoch 9/60\n",
            "4221912/4221912 - 33s - loss: 7.2063 - val_loss: 1.7922\n",
            "Epoch 10/60\n",
            "4221912/4221912 - 33s - loss: 7.1100 - val_loss: 1.7135\n",
            "Epoch 11/60\n",
            "4221912/4221912 - 34s - loss: 7.1233 - val_loss: 1.7813\n",
            "Epoch 12/60\n",
            "4221912/4221912 - 33s - loss: 7.0172 - val_loss: 1.7761\n",
            "Epoch 13/60\n",
            "4221912/4221912 - 33s - loss: 6.9822 - val_loss: 1.6623\n",
            "Epoch 14/60\n",
            "4221912/4221912 - 33s - loss: 6.8748 - val_loss: 1.8647\n",
            "Epoch 15/60\n",
            "4221912/4221912 - 33s - loss: 6.7545 - val_loss: 1.7465\n",
            "Epoch 16/60\n",
            "4221912/4221912 - 33s - loss: 6.7051 - val_loss: 1.5746\n",
            "Epoch 17/60\n",
            "4221912/4221912 - 34s - loss: 6.6833 - val_loss: 1.5166\n",
            "Epoch 18/60\n",
            "4221912/4221912 - 33s - loss: 6.7317 - val_loss: 1.6028\n",
            "Epoch 19/60\n",
            "4221912/4221912 - 34s - loss: 6.6543 - val_loss: 1.5876\n",
            "Epoch 20/60\n",
            "4221912/4221912 - 33s - loss: 6.7340 - val_loss: 1.9014\n",
            "Epoch 21/60\n",
            "4221912/4221912 - 33s - loss: 6.7033 - val_loss: 1.6578\n",
            "Epoch 22/60\n",
            "4221912/4221912 - 33s - loss: 6.7080 - val_loss: 1.6149\n",
            "Epoch 23/60\n",
            "4221912/4221912 - 33s - loss: 6.6490 - val_loss: 1.7010\n",
            "Epoch 24/60\n",
            "4221912/4221912 - 33s - loss: 6.6083 - val_loss: 1.7370\n",
            "Epoch 25/60\n",
            "4221912/4221912 - 33s - loss: 6.5222 - val_loss: 1.6827\n",
            "Epoch 26/60\n",
            "4221912/4221912 - 33s - loss: 6.5358 - val_loss: 1.6535\n",
            "Epoch 27/60\n",
            "4221912/4221912 - 33s - loss: 6.5932 - val_loss: 1.7361\n",
            "Epoch 28/60\n",
            "4221912/4221912 - 33s - loss: 6.5931 - val_loss: 1.8432\n",
            "Epoch 29/60\n",
            "4221912/4221912 - 33s - loss: 6.5428 - val_loss: 1.6988\n",
            "Epoch 30/60\n",
            "4221912/4221912 - 33s - loss: 6.4635 - val_loss: 1.9169\n",
            "Epoch 31/60\n",
            "4221912/4221912 - 33s - loss: 6.4568 - val_loss: 1.8080\n",
            "Epoch 32/60\n",
            "4221912/4221912 - 33s - loss: 6.4693 - val_loss: 1.5883\n",
            "Epoch 33/60\n",
            "4221912/4221912 - 33s - loss: 6.3245 - val_loss: 1.8639\n",
            "Epoch 34/60\n",
            "4221912/4221912 - 33s - loss: 6.3436 - val_loss: 2.0088\n",
            "Epoch 35/60\n",
            "4221912/4221912 - 33s - loss: 6.3271 - val_loss: 1.7412\n",
            "Epoch 36/60\n",
            "4221912/4221912 - 33s - loss: 6.2468 - val_loss: 1.6435\n",
            "Epoch 37/60\n",
            "4221912/4221912 - 33s - loss: 6.3250 - val_loss: 1.5981\n",
            "Epoch 38/60\n",
            "4221912/4221912 - 34s - loss: 6.3443 - val_loss: 1.9541\n",
            "Epoch 39/60\n",
            "4221912/4221912 - 33s - loss: 6.3563 - val_loss: 1.9527\n",
            "Epoch 40/60\n",
            "4221912/4221912 - 33s - loss: 6.3432 - val_loss: 2.0398\n",
            "Epoch 41/60\n",
            "4221912/4221912 - 33s - loss: 6.2663 - val_loss: 1.8143\n",
            "Epoch 42/60\n",
            "4221912/4221912 - 33s - loss: 6.4786 - val_loss: 1.9065\n",
            "Epoch 43/60\n",
            "4221912/4221912 - 33s - loss: 6.3224 - val_loss: 1.8254\n",
            "Epoch 44/60\n",
            "4221912/4221912 - 33s - loss: 6.2862 - val_loss: 2.0084\n",
            "Epoch 45/60\n",
            "4221912/4221912 - 33s - loss: 6.1974 - val_loss: 1.8018\n",
            "Epoch 46/60\n",
            "4221912/4221912 - 33s - loss: 6.1642 - val_loss: 1.6997\n",
            "Epoch 47/60\n",
            "4221912/4221912 - 33s - loss: 6.1138 - val_loss: 1.5705\n",
            "Epoch 48/60\n",
            "4221912/4221912 - 33s - loss: 6.1513 - val_loss: 1.8718\n",
            "Epoch 49/60\n",
            "4221912/4221912 - 33s - loss: 6.2652 - val_loss: 1.9728\n",
            "Epoch 50/60\n",
            "4221912/4221912 - 33s - loss: 6.1498 - val_loss: 1.9684\n",
            "Epoch 51/60\n",
            "4221912/4221912 - 33s - loss: 6.1718 - val_loss: 1.7684\n",
            "Epoch 52/60\n",
            "4221912/4221912 - 33s - loss: 6.1839 - val_loss: 1.7638\n",
            "Epoch 53/60\n",
            "4221912/4221912 - 33s - loss: 6.1404 - val_loss: 2.0437\n",
            "Epoch 54/60\n",
            "4221912/4221912 - 33s - loss: 6.0538 - val_loss: 1.9328\n",
            "Epoch 55/60\n",
            "4221912/4221912 - 33s - loss: 6.0675 - val_loss: 1.9931\n",
            "Epoch 56/60\n",
            "4221912/4221912 - 33s - loss: 6.1427 - val_loss: 1.9582\n",
            "Epoch 57/60\n",
            "4221912/4221912 - 33s - loss: 6.1050 - val_loss: 1.8107\n",
            "Epoch 58/60\n",
            "4221912/4221912 - 33s - loss: 6.0416 - val_loss: 1.8362\n",
            "Epoch 59/60\n",
            "4221912/4221912 - 33s - loss: 5.9799 - val_loss: 1.8441\n",
            "Epoch 60/60\n",
            "4221912/4221912 - 33s - loss: 6.1157 - val_loss: 1.9769\n"
          ],
          "name": "stdout"
        }
      ]
    },
    {
      "cell_type": "code",
      "metadata": {
        "id": "Gvh3zYrH91mt",
        "colab_type": "code",
        "colab": {
          "base_uri": "https://localhost:8080/",
          "height": 295
        },
        "outputId": "e792fdd2-10c3-4bbb-bb82-1259c41503d7"
      },
      "source": [
        "sc = np.sqrt(train_X_final.shape[0]/test_X.shape[0])\n",
        "plt.plot(history.history['loss']/sc)\n",
        "plt.plot(history.history['val_loss'])\n",
        "plt.title('model accuracy')\n",
        "plt.ylabel('loss')\n",
        "plt.xlabel('epoch')\n",
        "plt.legend(['train', 'test'], loc='upper left')\n",
        "plt.show()"
      ],
      "execution_count": 9,
      "outputs": [
        {
          "output_type": "display_data",
          "data": {
            "image/png": "[encoded data removed]",
            "text/plain": [
              "<Figure size 432x288 with 1 Axes>"
            ]
          },
          "metadata": {
            "tags": []
          }
        }
      ]
    },
    {
      "cell_type": "code",
      "metadata": {
        "id": "KbqFUaqUsUaD",
        "colab_type": "code",
        "colab": {}
      },
      "source": [
        ""
      ],
      "execution_count": 0,
      "outputs": []
    }
  ]
}