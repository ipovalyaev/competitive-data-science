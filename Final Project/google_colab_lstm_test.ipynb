{
  "nbformat": 4,
  "nbformat_minor": 0,
  "metadata": {
    "hw_version": "1.0.0",
    "kernelspec": {
      "name": "python3",
      "display_name": "Python 3"
    },
    "language_info": {
      "codemirror_mode": {
        "name": "ipython",
        "version": 3
      },
      "file_extension": ".py",
      "mimetype": "text/x-python",
      "name": "python",
      "nbconvert_exporter": "python",
      "pygments_lexer": "ipython3",
      "version": "3.6.8"
    },
    "colab": {
      "name": "Solution.ipynb",
      "provenance": []
    },
    "accelerator": "GPU"
  },
  "cells": [
    {
      "cell_type": "markdown",
      "metadata": {
        "id": "mTG_dLZssURe",
        "colab_type": "text"
      },
      "source": [
        "# Import packages and load data"
      ]
    },
    {
      "cell_type": "code",
      "metadata": {
        "id": "2OnIN_wFsURo",
        "colab_type": "code",
        "colab": {}
      },
      "source": [
        "import pandas as pd\n",
        "import numpy as np\n",
        "import os\n",
        "from itertools import product\n",
        "import matplotlib.pyplot as plt\n",
        "import time\n",
        "import gc\n",
        "from sklearn.metrics import mean_squared_error, r2_score\n",
        "import sklearn.linear_model\n",
        "from sklearn import preprocessing\n",
        "\n",
        "from sklearn.feature_extraction.text import TfidfVectorizer\n",
        "from sklearn.decomposition import TruncatedSVD\n",
        "from sklearn.cluster import KMeans\n",
        "\n",
        "import xgboost\n",
        "import lightgbm as lgb\n",
        "\n",
        "import tensorflow as tf\n",
        "from tensorflow import keras\n",
        "\n",
        "%matplotlib inline \n"
      ],
      "execution_count": 0,
      "outputs": []
    },
    {
      "cell_type": "code",
      "metadata": {
        "id": "I_6lCj8Gs7g_",
        "colab_type": "code",
        "outputId": "9b551e2f-f2d2-4fab-b2c4-84dcd2711283",
        "colab": {
          "base_uri": "https://localhost:8080/",
          "height": 86
        }
      },
      "source": [
        "!curl --remote-name \\\n",
        "     -H 'Accept: application/vnd.github.v3.raw' \\\n",
        "     --location https://github.com/ipovalyaev/competitive-data-science/raw/master/readonly/final_project_data/sales_train.csv.gz\n",
        "      # https://api.github.com/repos/jakevdp/PythonDataScienceHandbook/contents/notebooks/data/california_cities.csv\n",
        "\n",
        "transactions = pd.read_csv( 'sales_train.csv.gz')"
      ],
      "execution_count": 10,
      "outputs": [
        {
          "output_type": "stream",
          "text": [
            "  % Total    % Received % Xferd  Average Speed   Time    Time     Time  Current\n",
            "                                 Dload  Upload   Total   Spent    Left  Speed\n",
            "\r  0     0    0     0    0     0      0      0 --:--:-- --:--:-- --:--:--     0\r100   189  100   189    0     0    921      0 --:--:-- --:--:-- --:--:--   921\n",
            "\r100 12.8M  100 12.8M    0     0  41.8M      0 --:--:-- --:--:-- --:--:-- 41.8M\n"
          ],
          "name": "stdout"
        }
      ]
    },
    {
      "cell_type": "code",
      "metadata": {
        "id": "mnxU0MtOuh8Z",
        "colab_type": "code",
        "colab": {}
      },
      "source": [
        ""
      ],
      "execution_count": 0,
      "outputs": []
    },
    {
      "cell_type": "code",
      "metadata": {
        "id": "BNmrCHUXsUWb",
        "colab_type": "code",
        "colab": {}
      },
      "source": [
        "def cartesian_product(*arrays):\n",
        "    la = len(arrays)\n",
        "    dtype = np.result_type(*arrays)\n",
        "    arr = np.empty([len(a) for a in arrays] + [la], dtype=dtype)\n",
        "    for i, a in enumerate(np.ix_(*arrays)):\n",
        "        arr[...,i] = a\n",
        "    return arr.reshape(-1, la)"
      ],
      "execution_count": 0,
      "outputs": []
    },
    {
      "cell_type": "code",
      "metadata": {
        "id": "FvyfXMNPsUZc",
        "colab_type": "code",
        "colab": {}
      },
      "source": [
        "train_test_split_block=34\n",
        "\n",
        "# shop_ids = np.random.choice(transactions[transactions.date_block_num==train_test_split_block].shop_id.unique(),10)\n",
        "shop_ids = transactions[transactions.date_block_num==train_test_split_block-1].shop_id.unique()\n"
      ],
      "execution_count": 0,
      "outputs": []
    },
    {
      "cell_type": "code",
      "metadata": {
        "id": "uEqNmaY3sUZk",
        "colab_type": "code",
        "colab": {}
      },
      "source": [
        "# time_window = 24\n",
        "time_window = 13\n",
        "n_features = 1"
      ],
      "execution_count": 0,
      "outputs": []
    },
    {
      "cell_type": "code",
      "metadata": {
        "id": "n55IutHNsUZq",
        "colab_type": "code",
        "outputId": "ceacdb91-36da-47d4-fb18-b7bd1c2d5068",
        "colab": {
          "base_uri": "https://localhost:8080/",
          "height": 1000
        }
      },
      "source": [
        "index_cols = ['shop_id', 'item_id', 'date_block_num']\n",
        "\n",
        "train_X = []\n",
        "train_Y = []\n",
        "\n",
        "for cur_seq_window in range(time_window,train_test_split_block):\n",
        "    start_interval = cur_seq_window-time_window\n",
        "    print(start_interval,cur_seq_window)\n",
        "    #item_ids from Y\n",
        "    # shop_ids = transactions[(transactions.date_block_num==cur_seq_window)].shop_id.unique()\n",
        "\n",
        "    item_ids = transactions[\n",
        "        (transactions.date_block_num==cur_seq_window) \n",
        "    ].item_id.unique()\n",
        "    # grid for both X and Y\n",
        "    v_grid_X = \\\n",
        "        cartesian_product(shop_ids, item_ids, np.array(range(cur_seq_window-time_window,cur_seq_window)))    \n",
        "    pd_grid_X = pd.DataFrame(v_grid_X, columns = index_cols,dtype=np.int32)\n",
        "    \n",
        "    X_trans = transactions[\n",
        "        (transactions.date_block_num>=start_interval) &\n",
        "        (transactions.date_block_num<cur_seq_window) &\n",
        "        (transactions.shop_id.isin(shop_ids)) & \n",
        "        (transactions.item_id.isin(item_ids))\n",
        "    ]\n",
        "    gb_X = X_trans.groupby(index_cols,as_index=False).agg({'item_cnt_day':'sum'})\n",
        "    pd_grid_val_X = pd.merge(pd_grid_X, gb_X, how='left', on=index_cols).fillna(0.0)    \n",
        "    seq_num = int(pd_grid_val_X.shape[0]/time_window)\n",
        "    print (\"seq_num = \" + str(seq_num))    \n",
        "    np_X_chunk = np.reshape(pd_grid_val_X.sort_values(by=index_cols)['item_cnt_day'].values,\n",
        "                                  (seq_num,time_window,n_features))\n",
        "    \n",
        "    \n",
        "    v_grid_Y = cartesian_product(shop_ids, item_ids, np.array([cur_seq_window]))\n",
        "    pd_grid_Y = pd.DataFrame(v_grid_Y, columns = index_cols,dtype=np.int32)    \n",
        "    Y_trans = transactions[\n",
        "        (transactions.date_block_num==cur_seq_window) &\n",
        "        (transactions.shop_id.isin(shop_ids)) & \n",
        "        (transactions.item_id.isin(item_ids))\n",
        "    ]\n",
        "    gb_Y = Y_trans.groupby(index_cols,as_index=False).agg({'item_cnt_day':'sum'})\n",
        "    pd_grid_val_Y = pd.merge(pd_grid_Y, gb_Y, how='left', on=index_cols).fillna(0.0)\n",
        "    \n",
        "    np_Y_chunk = pd_grid_val_Y.sort_values(by=index_cols)['item_cnt_day'].values\n",
        "    \n",
        "    print (\"np_X_chunk.shape = \"+str(np_X_chunk.shape)+\"np_Y_chunk.shape = \"+str(np_Y_chunk.shape))\n",
        "\n",
        "\n",
        "    \n",
        "    if (cur_seq_window==train_test_split_block-1):\n",
        "        ## test set\n",
        "        test_X = np_X_chunk\n",
        "        test_Y = np_Y_chunk\n",
        "    else:\n",
        "        ## train set\n",
        "        train_X.append(np_X_chunk)\n",
        "        train_Y.append(np_Y_chunk)\n",
        "        \n",
        "train_X_final = np.vstack(train_X)\n",
        "train_Y_final = np.hstack(train_Y)"
      ],
      "execution_count": 14,
      "outputs": [
        {
          "output_type": "stream",
          "text": [
            "0 13\n",
            "seq_num = 313896\n",
            "np_X_chunk.shape = (313896, 13, 1)np_Y_chunk.shape = (313896,)\n",
            "1 14\n",
            "seq_num = 314248\n",
            "np_X_chunk.shape = (314248, 13, 1)np_Y_chunk.shape = (314248,)\n",
            "2 15\n",
            "seq_num = 298056\n",
            "np_X_chunk.shape = (298056, 13, 1)np_Y_chunk.shape = (298056,)\n",
            "3 16\n",
            "seq_num = 294140\n",
            "np_X_chunk.shape = (294140, 13, 1)np_Y_chunk.shape = (294140,)\n",
            "4 17\n",
            "seq_num = 293964\n",
            "np_X_chunk.shape = (293964, 13, 1)np_Y_chunk.shape = (293964,)\n",
            "5 18\n",
            "seq_num = 290884\n",
            "np_X_chunk.shape = (290884, 13, 1)np_Y_chunk.shape = (290884,)\n",
            "6 19\n",
            "seq_num = 279972\n",
            "np_X_chunk.shape = (279972, 13, 1)np_Y_chunk.shape = (279972,)\n",
            "7 20\n",
            "seq_num = 267124\n",
            "np_X_chunk.shape = (267124, 13, 1)np_Y_chunk.shape = (267124,)\n",
            "8 21\n",
            "seq_num = 278696\n",
            "np_X_chunk.shape = (278696, 13, 1)np_Y_chunk.shape = (278696,)\n",
            "9 22\n",
            "seq_num = 278168\n",
            "np_X_chunk.shape = (278168, 13, 1)np_Y_chunk.shape = (278168,)\n",
            "10 23\n",
            "seq_num = 290620\n",
            "np_X_chunk.shape = (290620, 13, 1)np_Y_chunk.shape = (290620,)\n",
            "11 24\n",
            "seq_num = 270116\n",
            "np_X_chunk.shape = (270116, 13, 1)np_Y_chunk.shape = (270116,)\n",
            "12 25\n",
            "seq_num = 266332\n",
            "np_X_chunk.shape = (266332, 13, 1)np_Y_chunk.shape = (266332,)\n",
            "13 26\n",
            "seq_num = 267608\n",
            "np_X_chunk.shape = (267608, 13, 1)np_Y_chunk.shape = (267608,)\n",
            "14 27\n",
            "seq_num = 240944\n",
            "np_X_chunk.shape = (240944, 13, 1)np_Y_chunk.shape = (240944,)\n",
            "15 28\n",
            "seq_num = 232452\n",
            "np_X_chunk.shape = (232452, 13, 1)np_Y_chunk.shape = (232452,)\n",
            "16 29\n",
            "seq_num = 229504\n",
            "np_X_chunk.shape = (229504, 13, 1)np_Y_chunk.shape = (229504,)\n",
            "17 30\n",
            "seq_num = 234212\n",
            "np_X_chunk.shape = (234212, 13, 1)np_Y_chunk.shape = (234212,)\n",
            "18 31\n",
            "seq_num = 224752\n",
            "np_X_chunk.shape = (224752, 13, 1)np_Y_chunk.shape = (224752,)\n",
            "19 32\n",
            "seq_num = 223740\n",
            "np_X_chunk.shape = (223740, 13, 1)np_Y_chunk.shape = (223740,)\n",
            "20 33\n",
            "seq_num = 238172\n",
            "np_X_chunk.shape = (238172, 13, 1)np_Y_chunk.shape = (238172,)\n"
          ],
          "name": "stdout"
        }
      ]
    },
    {
      "cell_type": "code",
      "metadata": {
        "id": "wXj7i95tsUZw",
        "colab_type": "code",
        "outputId": "71bc0d28-531b-490e-aafa-250c77dcee7b",
        "colab": {
          "base_uri": "https://localhost:8080/",
          "height": 34
        }
      },
      "source": [
        "print(train_X_final.shape , train_Y_final.shape, test_X.shape , test_Y.shape)"
      ],
      "execution_count": 15,
      "outputs": [
        {
          "output_type": "stream",
          "text": [
            "(5389428, 13, 1) (5389428,) (238172, 13, 1) (238172,)\n"
          ],
          "name": "stdout"
        }
      ]
    },
    {
      "cell_type": "code",
      "metadata": {
        "id": "NIl1quL0sUZ5",
        "colab_type": "code",
        "outputId": "51ca4c0f-9d73-47c9-f450-0c563bfe887c",
        "colab": {
          "base_uri": "https://localhost:8080/",
          "height": 382
        }
      },
      "source": [
        "model = keras.Sequential()\n",
        "model.add(keras.layers.CuDNNLSTM(256, input_shape=(train_X_final.shape[1], train_X_final.shape[2])\n",
        "                                #  ,kernel_regularizer=keras.regularizers.l2(0.05)\n",
        "                                #  ,recurrent_regularizer = keras.regularizers.l2(0.05)\n",
        "                                ))\n",
        "model.add(keras.layers.Dense(1))\n",
        "model.compile(loss='mean_squared_error', optimizer=keras.optimizers.Adam())\n",
        "\n",
        "history = model.fit(\n",
        "    train_X_final, train_Y_final, \n",
        "    epochs=10, \n",
        "    batch_size=1024, \n",
        "    validation_data=(test_X, test_Y),\n",
        "    verbose=2, \n",
        "    shuffle=True\n",
        ")"
      ],
      "execution_count": 16,
      "outputs": [
        {
          "output_type": "stream",
          "text": [
            "Train on 5389428 samples, validate on 238172 samples\n",
            "Epoch 1/10\n",
            "5389428/5389428 - 51s - loss: 8.9836 - val_loss: 23.5724\n",
            "Epoch 2/10\n",
            "5389428/5389428 - 38s - loss: 7.9081 - val_loss: 22.9488\n",
            "Epoch 3/10\n",
            "5389428/5389428 - 38s - loss: 7.6834 - val_loss: 22.2439\n",
            "Epoch 4/10\n",
            "5389428/5389428 - 38s - loss: 7.4558 - val_loss: 21.6708\n",
            "Epoch 5/10\n",
            "5389428/5389428 - 38s - loss: 7.1971 - val_loss: 22.0389\n",
            "Epoch 6/10\n",
            "5389428/5389428 - 38s - loss: 7.0468 - val_loss: 21.3289\n",
            "Epoch 7/10\n",
            "5389428/5389428 - 38s - loss: 7.0297 - val_loss: 21.7341\n",
            "Epoch 8/10\n",
            "5389428/5389428 - 38s - loss: 7.0572 - val_loss: 21.3912\n",
            "Epoch 9/10\n",
            "5389428/5389428 - 38s - loss: 6.8822 - val_loss: 21.2894\n",
            "Epoch 10/10\n",
            "5389428/5389428 - 38s - loss: 6.7848 - val_loss: 21.4806\n"
          ],
          "name": "stdout"
        }
      ]
    },
    {
      "cell_type": "code",
      "metadata": {
        "id": "Gvh3zYrH91mt",
        "colab_type": "code",
        "outputId": "5d849689-6543-4879-a116-318610158a84",
        "colab": {
          "base_uri": "https://localhost:8080/",
          "height": 295
        }
      },
      "source": [
        "sc = np.sqrt(train_X_final.shape[0]/test_X.shape[0])\n",
        "plt.plot(history.history['loss']/sc)\n",
        "plt.plot(history.history['val_loss'])\n",
        "plt.title('model accuracy')\n",
        "plt.ylabel('loss')\n",
        "plt.xlabel('epoch')\n",
        "plt.legend(['train', 'test'], loc='upper left')\n",
        "plt.show()"
      ],
      "execution_count": 17,
      "outputs": [
        {
          "output_type": "display_data",
          "data": {
            "image/png": "[encoded data removed]",
            "text/plain": [
              "<Figure size 432x288 with 1 Axes>"
            ]
          },
          "metadata": {
            "tags": []
          }
        }
      ]
    },
    {
      "cell_type": "code",
      "metadata": {
        "id": "KbqFUaqUsUaD",
        "colab_type": "code",
        "colab": {}
      },
      "source": [
        ""
      ],
      "execution_count": 0,
      "outputs": []
    }
  ]
}