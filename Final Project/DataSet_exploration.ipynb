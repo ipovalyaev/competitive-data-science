{
 "cells": [
  {
   "cell_type": "markdown",
   "metadata": {},
   "source": [
    "Version 1.0.1"
   ]
  },
  {
   "cell_type": "markdown",
   "metadata": {},
   "source": [
    "# Dataset exploration (based on Pandas basics notebook from week1)"
   ]
  },
  {
   "cell_type": "code",
   "execution_count": 83,
   "metadata": {},
   "outputs": [],
   "source": [
    "import pandas as pd\n",
    "import numpy as np\n",
    "import os\n",
    "import matplotlib.pyplot as plt\n",
    "import time\n",
    "%matplotlib inline \n"
   ]
  },
  {
   "cell_type": "code",
   "execution_count": 30,
   "metadata": {},
   "outputs": [],
   "source": [
    "DATA_FOLDER = '../readonly/final_project_data/'\n",
    "\n",
    "transactions    = pd.read_csv(os.path.join(DATA_FOLDER, 'sales_train.csv.gz'))\n",
    "items           = pd.read_csv(os.path.join(DATA_FOLDER, 'items.csv'))\n",
    "item_categories = pd.read_csv(os.path.join(DATA_FOLDER, 'item_categories.csv'))\n",
    "shops           = pd.read_csv(os.path.join(DATA_FOLDER, 'shops.csv'))"
   ]
  },
  {
   "cell_type": "markdown",
   "metadata": {},
   "source": [
    "The dataset we are going to use is taken from the competition, that serves as the final project for this course. You can find complete data description at the [competition web page](https://www.kaggle.com/c/competitive-data-science-final-project/data). To join the competition use [this link](https://www.kaggle.com/t/1ea93815dca248e99221df42ebde3540)."
   ]
  },
  {
   "cell_type": "markdown",
   "metadata": {},
   "source": [
    "# Task"
   ]
  },
  {
   "cell_type": "markdown",
   "metadata": {},
   "source": [
    "Let's start with a simple task. \n",
    "\n",
    "<ol start=\"0\">\n",
    "  <li><b>Print the shape of the loaded dataframes and use [`df.head`](https://pandas.pydata.org/pandas-docs/stable/generated/pandas.DataFrame.head.html) function to print several rows. Examine the features you are given.</b></li>\n",
    "</ol>"
   ]
  },
  {
   "cell_type": "code",
   "execution_count": 23,
   "metadata": {},
   "outputs": [
    {
     "name": "stdout",
     "output_type": "stream",
     "text": [
      "transactions head\n",
      "         date  date_block_num  shop_id  item_id  item_price  item_cnt_day  \\\n",
      "0  02.01.2013               0       59    22154      999.00           1.0   \n",
      "1  03.01.2013               0       25     2552      899.00           1.0   \n",
      "2  05.01.2013               0       25     2552      899.00          -1.0   \n",
      "3  06.01.2013               0       25     2554     1709.05           1.0   \n",
      "4  15.01.2013               0       25     2555     1099.00           1.0   \n",
      "\n",
      "   revenue  \n",
      "0   999.00  \n",
      "1   899.00  \n",
      "2  -899.00  \n",
      "3  1709.05  \n",
      "4  1099.00  \n",
      "\n",
      "\n",
      "transactions tail\n",
      "               date  date_block_num  shop_id  item_id  item_price  \\\n",
      "2935844  10.10.2015              33       25     7409       299.0   \n",
      "2935845  09.10.2015              33       25     7460       299.0   \n",
      "2935846  14.10.2015              33       25     7459       349.0   \n",
      "2935847  22.10.2015              33       25     7440       299.0   \n",
      "2935848  03.10.2015              33       25     7460       299.0   \n",
      "\n",
      "         item_cnt_day  revenue  \n",
      "2935844           1.0    299.0  \n",
      "2935845           1.0    299.0  \n",
      "2935846           1.0    349.0  \n",
      "2935847           1.0    299.0  \n",
      "2935848           1.0    299.0  \n"
     ]
    }
   ],
   "source": [
    "print(\"transactions head\")\n",
    "print(transactions.head())\n",
    "print(\"\\n\\ntransactions tail\")\n",
    "print(transactions.tail())\n",
    "# print(\"items\")\n",
    "# print(items.head())\n",
    "# print(\"item_categories\")\n",
    "# print(item_categories.head())\n",
    "# print(\"shops\")\n",
    "# print(shops.head())"
   ]
  },
  {
   "cell_type": "markdown",
   "metadata": {},
   "source": [
    "Now use your `pandas` skills to get answers for the following questions. \n",
    "The first question is:\n",
    "\n",
    "1. ** What was the maximum total revenue among all the shops in September, 2014?** \n",
    "\n",
    "\n",
    "* Hereinafter *revenue* refers to total sales minus value of goods returned.\n",
    "\n",
    "*Hints:*\n",
    "\n",
    "* Sometimes items are returned, find such examples in the dataset. \n",
    "* It is handy to split `date` field into [`day`, `month`, `year`] components and use `df.year == 14` and `df.month == 9` in order to select target subset of dates.\n",
    "* You may work with `date` feature as with strings, or you may first convert it to `pd.datetime` type with `pd.to_datetime` function, but do not forget to set correct `format` argument."
   ]
  },
  {
   "cell_type": "code",
   "execution_count": 4,
   "metadata": {},
   "outputs": [],
   "source": [
    "# YOUR CODE GOES HERE\n",
    "transactions[\"revenue\"]=transactions[\"item_price\"]*transactions[\"item_cnt_day\"]\n",
    "df_revenue = pd.DataFrame(transactions.set_index(pd.to_datetime(transactions[\"date\"],format='%d.%m.%Y')))\n",
    "grouping=pd.DataFrame(df_revenue[\"2014-09\"],copy=True)\n",
    "grouping.drop([\"date\",\"date_block_num\",\"item_id\",\"item_price\",\"item_cnt_day\"],axis=1,inplace=True)\n",
    "grouping.reset_index(inplace=True)\n",
    "grouping.drop(\"date\",axis=1,inplace=True)"
   ]
  },
  {
   "cell_type": "code",
   "execution_count": 5,
   "metadata": {},
   "outputs": [
    {
     "data": {
      "text/plain": [
       "7982852.1999999564"
      ]
     },
     "execution_count": 5,
     "metadata": {},
     "output_type": "execute_result"
    }
   ],
   "source": [
    "sums=pd.DataFrame(grouping.groupby('shop_id').sum(),copy=True)\n",
    "sums['revenue'].max()"
   ]
  },
  {
   "cell_type": "markdown",
   "metadata": {},
   "source": [
    "Great! Let's move on and answer another question:\n",
    "\n",
    "<ol start=\"2\">\n",
    "  <li><b>What item category generated the highest revenue in summer 2014?</b></li>\n",
    "</ol>\n",
    "\n",
    "* Submit `id` of the category found.\n",
    "    \n",
    "* Here we call \"summer\" the period from June to August.\n",
    "\n",
    "*Hints:*\n",
    "\n",
    "* Note, that for an object `x` of type `pd.Series`: `x.argmax()` returns **index** of the maximum element. `pd.Series` can have non-trivial index (not `[1, 2, 3, ... ]`)."
   ]
  },
  {
   "cell_type": "code",
   "execution_count": 6,
   "metadata": {},
   "outputs": [],
   "source": [
    "grouping2=pd.DataFrame(df_revenue[\"2014-06\":\"2014-08\"],copy=True)\n",
    "grouping2=grouping2.merge(items,on='item_id')\n",
    "grouping2.drop([\"date\",\"date_block_num\",\"item_id\",\"item_price\",\"item_cnt_day\",\"item_name\",\"shop_id\"],axis=1,inplace=True)"
   ]
  },
  {
   "cell_type": "code",
   "execution_count": 7,
   "metadata": {},
   "outputs": [
    {
     "name": "stdout",
     "output_type": "stream",
     "text": [
      "20\n",
      "32157302.43\n"
     ]
    }
   ],
   "source": [
    "sums2=pd.DataFrame(grouping2.groupby('item_category_id').sum(),copy=True)\n",
    "print(sums2['revenue'].argmax())\n",
    "print(sums2['revenue'].max())"
   ]
  },
  {
   "cell_type": "markdown",
   "metadata": {},
   "source": [
    "<ol start=\"3\">\n",
    "  <li><b>How many items are there, such that their price stays constant (to the best of our knowledge) during the whole period of time?</b></li>\n",
    "</ol>\n",
    "\n",
    "* Let's assume, that the items are returned for the same price as they had been sold."
   ]
  },
  {
   "cell_type": "code",
   "execution_count": 8,
   "metadata": {},
   "outputs": [
    {
     "data": {
      "text/plain": [
       "item_price    5926\n",
       "dtype: int64"
      ]
     },
     "execution_count": 8,
     "metadata": {},
     "output_type": "execute_result"
    }
   ],
   "source": [
    "grouping3=pd.DataFrame(transactions[['item_id','item_price']],copy=True)\n",
    "grouping3['item_price']=abs(grouping3['item_price']).round(decimals=2)\n",
    "grouping3=grouping3.drop_duplicates()\n",
    "sum3=grouping3.groupby('item_id').count()\n",
    "sum3[sum3['item_price']==1].count()"
   ]
  },
  {
   "cell_type": "markdown",
   "metadata": {},
   "source": [
    "Remember, the data can sometimes be noisy."
   ]
  },
  {
   "cell_type": "markdown",
   "metadata": {},
   "source": [
    "<ol start=\"4\">\n",
    "  <li><b>What was the variance of the number of sold items per day sequence for the shop with `shop_id = 25` in December, 2014?</b></li>\n",
    "</ol>\n",
    "\n",
    "* Fill `total_num_items_sold` and `days` arrays, and plot the sequence with the code below.\n",
    "* Then compute variance. Remember, there can be differences in how you normalize variance (biased or unbiased estimate, see [link](https://math.stackexchange.com/questions/496627/the-difference-between-unbiased-biased-estimator-variance)). Compute ***unbiased*** estimate (use the right value for `ddof` argument in `pd.var` or `np.var`)."
   ]
  },
  {
   "cell_type": "code",
   "execution_count": 9,
   "metadata": {},
   "outputs": [],
   "source": [
    "shop_id = 25\n",
    "\n",
    "df_filter = pd.DataFrame(transactions.set_index(pd.to_datetime(transactions[\"date\"],format='%d.%m.%Y')))\n",
    "grouping4=pd.DataFrame(df_filter[\"2014-12\"],copy=True)\n",
    "grouping5=grouping4[grouping4['shop_id']==25]"
   ]
  },
  {
   "cell_type": "code",
   "execution_count": 16,
   "metadata": {},
   "outputs": [],
   "source": [
    "total_num_items_sold=grouping5.resample('D').sum()['item_cnt_day'].dropna().values\n",
    "days = grouping5.resample('D').sum()['item_cnt_day'].dropna().keys().values"
   ]
  },
  {
   "cell_type": "code",
   "execution_count": 17,
   "metadata": {},
   "outputs": [
    {
     "data": {
      "text/plain": [
       "117167.70229885059"
      ]
     },
     "execution_count": 17,
     "metadata": {},
     "output_type": "execute_result"
    }
   ],
   "source": [
    "total_num_items_sold.var(ddof=1)"
   ]
  },
  {
   "cell_type": "code",
   "execution_count": 19,
   "metadata": {},
   "outputs": [
    {
     "data": {
      "image/png": "[encoded data removed]",
      "text/plain": [
       "<matplotlib.figure.Figure at 0x7fee64459208>"
      ]
     },
     "metadata": {
      "needs_background": "light"
     },
     "output_type": "display_data"
    }
   ],
   "source": [
    "#total_num_items_sold = # YOUR CODE GOES HERE\n",
    "#days = # YOUR CODE GOES HERE\n",
    "\n",
    "# Plot it\n",
    "plt.plot(days, total_num_items_sold)\n",
    "plt.ylabel('Num items')\n",
    "plt.xlabel('Day')\n",
    "plt.title(\"Daily revenue for shop_id = 25\")\n",
    "plt.show()\n",
    "total_num_items_sold_var = total_num_items_sold.var(ddof=1)\n"
   ]
  },
  {
   "cell_type": "markdown",
   "metadata": {},
   "source": [
    "# Preparing simple submittion "
   ]
  },
  {
   "cell_type": "markdown",
   "metadata": {},
   "source": [
    "<ol start=\"4\">\n",
    "  <li><b>A good exercise is to reproduce previous_value_benchmark.</b></li>\n",
    "</ol>\n",
    "\n",
    "As the name suggest - in this benchmark for the each shop/item pair our predictions are just monthly sales from the previous month, i.e. October 2015.\n",
    "\n",
    "The most important step at reproducing this score is correctly aggregating daily data and constructing monthly sales data frame. You need to get lagged values, fill NaNs with zeros and clip the values into [0,20] range. If you do it correctly, you'll get precisely 1.16777 on the public leaderboard."
   ]
  },
  {
   "cell_type": "code",
   "execution_count": 29,
   "metadata": {},
   "outputs": [],
   "source": [
    "test_set=pd.read_csv(os.path.join(DATA_FOLDER, 'test.csv.gz'))"
   ]
  },
  {
   "cell_type": "code",
   "execution_count": 38,
   "metadata": {},
   "outputs": [],
   "source": [
    "df_filter=transactions.set_index(pd.to_datetime(transactions[\"date\"],format='%d.%m.%Y'))[\"2015-10\"]\n",
    "df_october=pd.DataFrame(df_filter,copy=True)\n"
   ]
  },
  {
   "cell_type": "code",
   "execution_count": 58,
   "metadata": {},
   "outputs": [],
   "source": [
    "df_october_groupped = pd.DataFrame(df_october.groupby(['shop_id','item_id']).sum()['item_cnt_day']).reset_index()"
   ]
  },
  {
   "cell_type": "code",
   "execution_count": 63,
   "metadata": {},
   "outputs": [],
   "source": []
  },
  {
   "cell_type": "code",
   "execution_count": 109,
   "metadata": {},
   "outputs": [],
   "source": [
    "predictions = pd.merge(test_set,df_october_groupped,\n",
    "                       left_on=('shop_id','item_id'), right_on=('shop_id','item_id'), how='left')\n",
    "##filling NAs\n",
    "predictions.item_cnt_day=predictions.item_cnt_day.fillna(0.0)\n",
    "## clipping\n",
    "predictions.loc[predictions.item_cnt_day>20,'item_cnt_day']=20\n",
    "predictions.loc[predictions.item_cnt_day<0,'item_cnt_day']=0\n",
    "##dropping extra colums and indexes after merge\n",
    "predictions.drop(labels=['shop_id','item_id'],axis=1,inplace=True)\n",
    "predictions.rename(columns={'item_cnt_day':'item_cnt_month'},inplace=True)\n",
    "\n",
    "# converting  ID back to int\n",
    "predictions.ID = predictions.ID.astype(int)\n"
   ]
  },
  {
   "cell_type": "code",
   "execution_count": 110,
   "metadata": {},
   "outputs": [],
   "source": [
    "filename = 'submition_{}.csv'.format(time.strftime('%Y_%m_%d_%H_%M',time.localtime()))\n",
    "filename = os.path.join(DATA_FOLDER,filename)\n",
    "predictions.to_csv(filename,index=False)"
   ]
  },
  {
   "cell_type": "markdown",
   "metadata": {},
   "source": [
    "<table>\n",
    "  <tr>\n",
    "    <th>Name</th>\n",
    "    <th>Submitted</th>\n",
    "    <th>Score</th>\n",
    "  </tr>\n",
    "  <tr>\n",
    "    <th>submition_2019_06_03_09_29.csv.gz</th>\n",
    "    <th>just now </th>\n",
    "    <th>1.16777</th>\n",
    "    </tr>\n",
    "</table>\n"
   ]
  },
  {
   "cell_type": "code",
   "execution_count": null,
   "metadata": {},
   "outputs": [],
   "source": []
  }
 ],
 "metadata": {
  "hw_version": "1.0.0",
  "kernelspec": {
   "display_name": "Python 3",
   "language": "python",
   "name": "python3"
  },
  "language_info": {
   "codemirror_mode": {
    "name": "ipython",
    "version": 3
   },
   "file_extension": ".py",
   "mimetype": "text/x-python",
   "name": "python",
   "nbconvert_exporter": "python",
   "pygments_lexer": "ipython3",
   "version": "3.6.0"
  }
 },
 "nbformat": 4,
 "nbformat_minor": 2
}
